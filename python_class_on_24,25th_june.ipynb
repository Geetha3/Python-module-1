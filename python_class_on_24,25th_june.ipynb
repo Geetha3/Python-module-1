{
  "nbformat": 4,
  "nbformat_minor": 0,
  "metadata": {
    "colab": {
      "name": "python class on 24th june.ipynb",
      "provenance": [],
      "collapsed_sections": [],
      "authorship_tag": "ABX9TyOl6A6xUzXA1yndgVrj/dEv",
      "include_colab_link": true
    },
    "kernelspec": {
      "name": "python3",
      "display_name": "Python 3"
    }
  },
  "cells": [
    {
      "cell_type": "markdown",
      "metadata": {
        "id": "view-in-github",
        "colab_type": "text"
      },
      "source": [
        "<a href=\"https://colab.research.google.com/github/Geetha3/Python-module-1/blob/master/python_class_on_24%2C25th_june.ipynb\" target=\"_parent\"><img src=\"https://colab.research.google.com/assets/colab-badge.svg\" alt=\"Open In Colab\"/></a>"
      ]
    },
    {
      "cell_type": "markdown",
      "metadata": {
        "id": "SNXWe_EZe6gC",
        "colab_type": "text"
      },
      "source": [
        "#looping Statements: while, for "
      ]
    },
    {
      "cell_type": "markdown",
      "metadata": {
        "id": "2CAB0Rs3gbPO",
        "colab_type": "text"
      },
      "source": [
        "\n",
        "\n",
        "```\n",
        "# This is formatted as code\n",
        "while condition :\n",
        "  body of loop\n",
        "  loop index increment\n",
        "else :  (optional)\n",
        "  statement\n",
        "```\n",
        "\n"
      ]
    },
    {
      "cell_type": "code",
      "metadata": {
        "id": "5BXTPNLZgyJ6",
        "colab_type": "code",
        "colab": {
          "base_uri": "https://localhost:8080/",
          "height": 85
        },
        "outputId": "8f6c0d80-ab84-4ecd-a43f-08f567c92b8c"
      },
      "source": [
        "counter=0\n",
        "while counter<3 :\n",
        "  print('inside while loop')\n",
        "  counter=counter+1\n",
        "else :\n",
        "  print('inside the else')\n"
      ],
      "execution_count": null,
      "outputs": [
        {
          "output_type": "stream",
          "text": [
            "inside while loop\n",
            "inside while loop\n",
            "inside while loop\n",
            "inside the else\n"
          ],
          "name": "stdout"
        }
      ]
    },
    {
      "cell_type": "code",
      "metadata": {
        "id": "oZv9IyJ6iRtH",
        "colab_type": "code",
        "colab": {
          "base_uri": "https://localhost:8080/",
          "height": 204
        },
        "outputId": "aa63348a-1c57-48e7-c6f5-8561bc4e7c54"
      },
      "source": [
        "n=0\n",
        "while n<10:\n",
        "  print(n)\n",
        "  n=n+1\n",
        "print('outside the while')\n"
      ],
      "execution_count": null,
      "outputs": [
        {
          "output_type": "stream",
          "text": [
            "0\n",
            "1\n",
            "2\n",
            "3\n",
            "4\n",
            "5\n",
            "6\n",
            "7\n",
            "8\n",
            "9\n",
            "outside the while\n"
          ],
          "name": "stdout"
        }
      ]
    },
    {
      "cell_type": "code",
      "metadata": {
        "id": "bx9w4W-ljM5V",
        "colab_type": "code",
        "colab": {}
      },
      "source": [
        ""
      ],
      "execution_count": null,
      "outputs": []
    },
    {
      "cell_type": "markdown",
      "metadata": {
        "id": "oCJpdSRtjZJi",
        "colab_type": "text"
      },
      "source": [
        "#python program to check given number is palindrome or not"
      ]
    },
    {
      "cell_type": "code",
      "metadata": {
        "id": "BqY2rpgRjikf",
        "colab_type": "code",
        "colab": {
          "base_uri": "https://localhost:8080/",
          "height": 51
        },
        "outputId": "bc89ff77-8616-48e8-b38c-7d38dcdf956f"
      },
      "source": [
        "n=int(input('Enter a number to check whether its a palindrome'))\n",
        "temp=n\n",
        "rev=0\n",
        "while (n>0):\n",
        "  digit=n%10\n",
        "  rev=rev*10+digit\n",
        "  n=n//10\n",
        "\n",
        "if (temp==rev):\n",
        "  print(' The given number is palindrome!')  \n",
        "else:\n",
        "  print('The given number is not  palindrome')"
      ],
      "execution_count": null,
      "outputs": [
        {
          "output_type": "stream",
          "text": [
            "Enter a number to check whether its a palindrome232\n",
            " The given number is palindrome!\n"
          ],
          "name": "stdout"
        }
      ]
    },
    {
      "cell_type": "code",
      "metadata": {
        "id": "lDI30F3ClIk6",
        "colab_type": "code",
        "colab": {}
      },
      "source": [
        ""
      ],
      "execution_count": null,
      "outputs": []
    },
    {
      "cell_type": "markdown",
      "metadata": {
        "id": "wOGs8BuyoAzY",
        "colab_type": "text"
      },
      "source": [
        "#python program to reverse a number"
      ]
    },
    {
      "cell_type": "code",
      "metadata": {
        "id": "mQzGT5FBoHGP",
        "colab_type": "code",
        "colab": {
          "base_uri": "https://localhost:8080/",
          "height": 51
        },
        "outputId": "1766d2d2-dee8-4007-a796-ecdad01b92dc"
      },
      "source": [
        "n=int(input('Enter a number to check whether its a palindrome'))\n",
        "temp=n\n",
        "rev=0\n",
        "while (n>0):\n",
        "  digit=n%10\n",
        "  rev=rev*10+digit\n",
        "  n=n//10\n",
        "print(' Reverse of a given number is', rev)"
      ],
      "execution_count": null,
      "outputs": [
        {
          "output_type": "stream",
          "text": [
            "Enter a number to check whether its a palindrome1234\n",
            " Reverse of a given number is 4321\n"
          ],
          "name": "stdout"
        }
      ]
    },
    {
      "cell_type": "code",
      "metadata": {
        "id": "KJk35dOYox-p",
        "colab_type": "code",
        "colab": {}
      },
      "source": [
        ""
      ],
      "execution_count": null,
      "outputs": []
    },
    {
      "cell_type": "markdown",
      "metadata": {
        "id": "hn_IPJxWo_uf",
        "colab_type": "text"
      },
      "source": [
        "#python program to finding divisor of a number\n"
      ]
    },
    {
      "cell_type": "code",
      "metadata": {
        "id": "QAB1ZXdTpJpP",
        "colab_type": "code",
        "colab": {
          "base_uri": "https://localhost:8080/",
          "height": 221
        },
        "outputId": "c1bfd983-6eec-4d2c-daa8-5ab8fdc0f6b8"
      },
      "source": [
        "x=int(input('Enter a number to find the devisors of it'))\n",
        "i=2\n",
        "while(i<=x//2):\n",
        "  if x%i==0:\n",
        "    print(i)\n",
        "  i=i+1\n",
        "else:\n",
        "  print('are the divisor of given number ')\n"
      ],
      "execution_count": null,
      "outputs": [
        {
          "output_type": "stream",
          "text": [
            "Enter a number to find the devisors of it500\n",
            "2\n",
            "4\n",
            "5\n",
            "10\n",
            "20\n",
            "25\n",
            "50\n",
            "100\n",
            "125\n",
            "250\n",
            "are the divisor of given number \n"
          ],
          "name": "stdout"
        }
      ]
    },
    {
      "cell_type": "code",
      "metadata": {
        "id": "DdKFk0FaqWDU",
        "colab_type": "code",
        "colab": {}
      },
      "source": [
        ""
      ],
      "execution_count": null,
      "outputs": []
    },
    {
      "cell_type": "markdown",
      "metadata": {
        "id": "MKkxBGX5q8sa",
        "colab_type": "text"
      },
      "source": [
        "\n",
        "\n",
        "```\n",
        "# This is for loop Structure\n",
        "for val in sequence :\n",
        "  body of loop\n",
        "else :\n",
        "  statements\n",
        "```\n",
        "\n"
      ]
    },
    {
      "cell_type": "code",
      "metadata": {
        "id": "VBdwzcC0rvGd",
        "colab_type": "code",
        "colab": {
          "base_uri": "https://localhost:8080/",
          "height": 85
        },
        "outputId": "0b2d82d4-3206-44ed-97b3-421c55e98b5e"
      },
      "source": [
        "friends=['Raju','Ravi','Ram']\n",
        "for friend in friends:\n",
        "  print('Happy New Year :',friend)\n",
        "print('Done')\n"
      ],
      "execution_count": null,
      "outputs": [
        {
          "output_type": "stream",
          "text": [
            "Happy New Year : Raju\n",
            "Happy New Year : Ravi\n",
            "Happy New Year : Ram\n",
            "Done\n"
          ],
          "name": "stdout"
        }
      ]
    },
    {
      "cell_type": "code",
      "metadata": {
        "id": "cupf9Pa1sX08",
        "colab_type": "code",
        "colab": {}
      },
      "source": [
        ""
      ],
      "execution_count": null,
      "outputs": []
    },
    {
      "cell_type": "markdown",
      "metadata": {
        "id": "RvLxcvvXtRwM",
        "colab_type": "text"
      },
      "source": [
        "#python program to print multiplication table"
      ]
    },
    {
      "cell_type": "code",
      "metadata": {
        "id": "k0IUayEltcQR",
        "colab_type": "code",
        "colab": {
          "base_uri": "https://localhost:8080/",
          "height": 204
        },
        "outputId": "e4f7ae58-4796-4c0b-bf86-dde5aee53aa6"
      },
      "source": [
        "n=int(input('Enter a number to display its multiplication table'))\n",
        "for i in range (1,11):\n",
        "   print(n,'X',i,'=',n*i)\n"
      ],
      "execution_count": null,
      "outputs": [
        {
          "output_type": "stream",
          "text": [
            "Enter a number to display its multiplication table5\n",
            "5 X 1 = 5\n",
            "5 X 2 = 10\n",
            "5 X 3 = 15\n",
            "5 X 4 = 20\n",
            "5 X 5 = 25\n",
            "5 X 6 = 30\n",
            "5 X 7 = 35\n",
            "5 X 8 = 40\n",
            "5 X 9 = 45\n",
            "5 X 10 = 50\n"
          ],
          "name": "stdout"
        }
      ]
    },
    {
      "cell_type": "code",
      "metadata": {
        "id": "YAvXAJuJtrR6",
        "colab_type": "code",
        "colab": {}
      },
      "source": [
        "#range(start,end,step)"
      ],
      "execution_count": null,
      "outputs": []
    },
    {
      "cell_type": "markdown",
      "metadata": {
        "id": "tZ6noO1j0Qly",
        "colab_type": "text"
      },
      "source": [
        "#range(start,end,step)"
      ]
    },
    {
      "cell_type": "code",
      "metadata": {
        "id": "RUGoB6DUwIyq",
        "colab_type": "code",
        "colab": {
          "base_uri": "https://localhost:8080/",
          "height": 68
        },
        "outputId": "36a2fed8-4c80-4529-f7ef-3b0a4eb27d67"
      },
      "source": [
        "x=range(5)\n",
        "print(type(x),x)\n",
        "print(x)\n",
        "\n",
        "x= list(range(5))\n",
        "print(type(x),x)"
      ],
      "execution_count": null,
      "outputs": [
        {
          "output_type": "stream",
          "text": [
            "<class 'range'> range(0, 5)\n",
            "range(0, 5)\n",
            "<class 'list'> [0, 1, 2, 3, 4]\n"
          ],
          "name": "stdout"
        }
      ]
    },
    {
      "cell_type": "code",
      "metadata": {
        "id": "0Lnjr6zBxU1u",
        "colab_type": "code",
        "colab": {
          "base_uri": "https://localhost:8080/",
          "height": 34
        },
        "outputId": "72028f1e-8cd4-407b-c250-d964c9fd8b2e"
      },
      "source": [
        "for i in range(5,10):\n",
        "  print(i,end=' ')"
      ],
      "execution_count": null,
      "outputs": [
        {
          "output_type": "stream",
          "text": [
            "5 6 7 8 9 "
          ],
          "name": "stdout"
        }
      ]
    },
    {
      "cell_type": "code",
      "metadata": {
        "id": "ruYkMxwNyqrg",
        "colab_type": "code",
        "colab": {}
      },
      "source": [
        ""
      ],
      "execution_count": null,
      "outputs": []
    },
    {
      "cell_type": "markdown",
      "metadata": {
        "id": "RUDgHMR2oTBS",
        "colab_type": "text"
      },
      "source": [
        "## **Class on 25th june**"
      ]
    },
    {
      "cell_type": "code",
      "metadata": {
        "id": "KfB2jKgAqw1x",
        "colab_type": "code",
        "colab": {
          "base_uri": "https://localhost:8080/",
          "height": 34
        },
        "outputId": "7e0c587c-a821-42cb-ddbd-5ea9ee640d20"
      },
      "source": [
        "for i in range(5,20,3):\n",
        "  print(i,end=' ')"
      ],
      "execution_count": 4,
      "outputs": [
        {
          "output_type": "stream",
          "text": [
            "5 8 11 14 17 "
          ],
          "name": "stdout"
        }
      ]
    },
    {
      "cell_type": "code",
      "metadata": {
        "id": "y3OojmdRq7sA",
        "colab_type": "code",
        "colab": {}
      },
      "source": [
        "#python program to generate all odd number till 50\n"
      ],
      "execution_count": 6,
      "outputs": []
    },
    {
      "cell_type": "code",
      "metadata": {
        "id": "a1S_d1OgsQVq",
        "colab_type": "code",
        "colab": {
          "base_uri": "https://localhost:8080/",
          "height": 129
        },
        "outputId": "98b3eada-7531-494f-a52c-f47d60bc87cd"
      },
      "source": [
        "count_even=0\n",
        "count_odd=0\n",
        "for num in range(start,end+1):\n",
        "    if num%2==0:\n",
        "        count_even+=1\n",
        "    else:\n",
        "        count_odd+=1\n",
        "print(\"The number of even numbers:\",count_even)\n",
        "print(\"The number of odd numbers\",count_odd)\n"
      ],
      "execution_count": 7,
      "outputs": [
        {
          "output_type": "error",
          "ename": "SyntaxError",
          "evalue": "ignored",
          "traceback": [
            "\u001b[0;36m  File \u001b[0;32m\"<ipython-input-7-472892a8422e>\"\u001b[0;36m, line \u001b[0;32m3\u001b[0m\n\u001b[0;31m    for num in range(start,end+1):\u001b[0m\n\u001b[0m                   ^\u001b[0m\n\u001b[0;31mSyntaxError\u001b[0m\u001b[0;31m:\u001b[0m invalid character in identifier\n"
          ]
        }
      ]
    },
    {
      "cell_type": "code",
      "metadata": {
        "id": "lVGY6WkVsuSi",
        "colab_type": "code",
        "colab": {
          "base_uri": "https://localhost:8080/",
          "height": 34
        },
        "outputId": "74bb711c-878b-4be9-a294-fc64039cf2b8"
      },
      "source": [
        "for i in range(-5,10,2):\n",
        "  print(i,end=' ')\n"
      ],
      "execution_count": 8,
      "outputs": [
        {
          "output_type": "stream",
          "text": [
            "-5 -3 -1 1 3 5 7 9 "
          ],
          "name": "stdout"
        }
      ]
    },
    {
      "cell_type": "code",
      "metadata": {
        "id": "hq-Mup9Os6V7",
        "colab_type": "code",
        "colab": {
          "base_uri": "https://localhost:8080/",
          "height": 34
        },
        "outputId": "9dbde373-47d5-402e-9a67-2bcc3cb80917"
      },
      "source": [
        "for i in range(-5,-20,-2):\n",
        "  print(i,end=' ')\n"
      ],
      "execution_count": 9,
      "outputs": [
        {
          "output_type": "stream",
          "text": [
            "-5 -7 -9 -11 -13 -15 -17 -19 "
          ],
          "name": "stdout"
        }
      ]
    },
    {
      "cell_type": "code",
      "metadata": {
        "id": "ZADAT7jttLvQ",
        "colab_type": "code",
        "colab": {
          "base_uri": "https://localhost:8080/",
          "height": 180
        },
        "outputId": "52536609-048e-4785-df4a-b504ef7bc575"
      },
      "source": [
        "for i in range(5,10,0.5):\n",
        "  print(i,end=' ')\n"
      ],
      "execution_count": 10,
      "outputs": [
        {
          "output_type": "error",
          "ename": "TypeError",
          "evalue": "ignored",
          "traceback": [
            "\u001b[0;31m---------------------------------------------------------------------------\u001b[0m",
            "\u001b[0;31mTypeError\u001b[0m                                 Traceback (most recent call last)",
            "\u001b[0;32m<ipython-input-10-ec32c5d07b04>\u001b[0m in \u001b[0;36m<module>\u001b[0;34m()\u001b[0m\n\u001b[0;32m----> 1\u001b[0;31m \u001b[0;32mfor\u001b[0m \u001b[0mi\u001b[0m \u001b[0;32min\u001b[0m \u001b[0mrange\u001b[0m\u001b[0;34m(\u001b[0m\u001b[0;36m5\u001b[0m\u001b[0;34m,\u001b[0m\u001b[0;36m10\u001b[0m\u001b[0;34m,\u001b[0m\u001b[0;36m0.5\u001b[0m\u001b[0;34m)\u001b[0m\u001b[0;34m:\u001b[0m\u001b[0;34m\u001b[0m\u001b[0;34m\u001b[0m\u001b[0m\n\u001b[0m\u001b[1;32m      2\u001b[0m   \u001b[0mprint\u001b[0m\u001b[0;34m(\u001b[0m\u001b[0mi\u001b[0m\u001b[0;34m,\u001b[0m\u001b[0mend\u001b[0m\u001b[0;34m=\u001b[0m\u001b[0;34m' '\u001b[0m\u001b[0;34m)\u001b[0m\u001b[0;34m\u001b[0m\u001b[0;34m\u001b[0m\u001b[0m\n",
            "\u001b[0;31mTypeError\u001b[0m: 'float' object cannot be interpreted as an integer"
          ]
        }
      ]
    },
    {
      "cell_type": "code",
      "metadata": {
        "id": "8TJxJsr6tgKR",
        "colab_type": "code",
        "colab": {
          "base_uri": "https://localhost:8080/",
          "height": 289
        },
        "outputId": "14c8da56-22ed-4e2a-82f2-a714a986e95f"
      },
      "source": [
        "for char in 'GITAM UNIVERSITY':\n",
        "  print(char)\n"
      ],
      "execution_count": 11,
      "outputs": [
        {
          "output_type": "stream",
          "text": [
            "G\n",
            "I\n",
            "T\n",
            "A\n",
            "M\n",
            " \n",
            "U\n",
            "N\n",
            "I\n",
            "V\n",
            "E\n",
            "R\n",
            "S\n",
            "I\n",
            "T\n",
            "Y\n"
          ],
          "name": "stdout"
        }
      ]
    },
    {
      "cell_type": "code",
      "metadata": {
        "id": "sgnqJ0yTuEsJ",
        "colab_type": "code",
        "colab": {}
      },
      "source": [
        "#python program to display sum and average of given number"
      ],
      "execution_count": null,
      "outputs": []
    },
    {
      "cell_type": "markdown",
      "metadata": {
        "id": "qBRV207cvEjp",
        "colab_type": "text"
      },
      "source": [
        "## #python program to display sum and average of given number"
      ]
    },
    {
      "cell_type": "code",
      "metadata": {
        "id": "UFbQ3x3uvIID",
        "colab_type": "code",
        "colab": {
          "base_uri": "https://localhost:8080/",
          "height": 51
        },
        "outputId": "bf7b7c90-f54c-4f95-9c13-cba81391cdb4"
      },
      "source": [
        "number=[10,20,30,40]\n",
        "sum=0\n",
        "for num in number:\n",
        "  sum=sum+num\n",
        "avg=sum/len(number)\n",
        "print('sum=',sum)\n",
        "print('Average=',avg)"
      ],
      "execution_count": 12,
      "outputs": [
        {
          "output_type": "stream",
          "text": [
            "sum= 100\n",
            "Average= 25.0\n"
          ],
          "name": "stdout"
        }
      ]
    },
    {
      "cell_type": "code",
      "metadata": {
        "id": "xh9VZxV_v5nH",
        "colab_type": "code",
        "colab": {}
      },
      "source": [
        ""
      ],
      "execution_count": null,
      "outputs": []
    },
    {
      "cell_type": "markdown",
      "metadata": {
        "id": "dgfp1dnswUlb",
        "colab_type": "text"
      },
      "source": [
        "Python program to check given number is prime or not"
      ]
    },
    {
      "cell_type": "code",
      "metadata": {
        "id": "KTxIx8gPwgW2",
        "colab_type": "code",
        "colab": {
          "base_uri": "https://localhost:8080/",
          "height": 34
        },
        "outputId": "731d7544-dc54-43e0-8eb4-d1b33ebd3a7c"
      },
      "source": [
        "def prime(n):\n",
        "  for i in range(2,n//2+1):\n",
        "    if (n%i==0) :\n",
        "      return 'Not Prime'\n",
        "  else:\n",
        "     return 'Prime'\n",
        "\n",
        "prime(5)\n",
        "\n",
        "prime(10)"
      ],
      "execution_count": 18,
      "outputs": [
        {
          "output_type": "execute_result",
          "data": {
            "text/plain": [
              "'Not Prime'"
            ]
          },
          "metadata": {
            "tags": []
          },
          "execution_count": 18
        }
      ]
    },
    {
      "cell_type": "code",
      "metadata": {
        "id": "jO3RzKLPxMnX",
        "colab_type": "code",
        "colab": {}
      },
      "source": [
        ""
      ],
      "execution_count": null,
      "outputs": []
    },
    {
      "cell_type": "markdown",
      "metadata": {
        "id": "2fI2GMOpxtBk",
        "colab_type": "text"
      },
      "source": [
        "# Python program to generate all prime number between n1 and n2"
      ]
    },
    {
      "cell_type": "code",
      "metadata": {
        "id": "tgFZfqoBx9ob",
        "colab_type": "code",
        "colab": {
          "base_uri": "https://localhost:8080/",
          "height": 476
        },
        "outputId": "37b77225-f2fe-43bc-fae4-3ab28f796635"
      },
      "source": [
        "n1=int(input(\"Enter n1: \"))\n",
        "n2=int(input(\"Enter n2: \"))\n",
        "for num in range(n1, n2+1):\n",
        "    if num>1:\n",
        "        for i in range(2,num):\n",
        "            if num%i==0:\n",
        "                break\n",
        "        else:\n",
        "            print(num)\n",
        "\n",
        "\n"
      ],
      "execution_count": 19,
      "outputs": [
        {
          "output_type": "stream",
          "text": [
            "Enter n1: 1\n",
            "Enter n2: 100\n",
            "2\n",
            "3\n",
            "5\n",
            "7\n",
            "11\n",
            "13\n",
            "17\n",
            "19\n",
            "23\n",
            "29\n",
            "31\n",
            "37\n",
            "41\n",
            "43\n",
            "47\n",
            "53\n",
            "59\n",
            "61\n",
            "67\n",
            "71\n",
            "73\n",
            "79\n",
            "83\n",
            "89\n",
            "97\n"
          ],
          "name": "stdout"
        }
      ]
    },
    {
      "cell_type": "code",
      "metadata": {
        "id": "yZ5BXlbhzNa6",
        "colab_type": "code",
        "colab": {}
      },
      "source": [
        ""
      ],
      "execution_count": null,
      "outputs": []
    },
    {
      "cell_type": "markdown",
      "metadata": {
        "id": "_mAR_Jpvz2z0",
        "colab_type": "text"
      },
      "source": [
        "#Python program to add 2 matrix"
      ]
    },
    {
      "cell_type": "code",
      "metadata": {
        "id": "74_WOVXSz8l3",
        "colab_type": "code",
        "colab": {
          "base_uri": "https://localhost:8080/",
          "height": 68
        },
        "outputId": "1bddd93b-ccb9-488a-9a98-5fe0d1cdc88f"
      },
      "source": [
        "m1=[[1,2,3],\n",
        "    [4,5,6],\n",
        "    [7,8,9]]\n",
        "\n",
        "m2=[[9,8,7],\n",
        "    [6,5,4],\n",
        "    [3,2,1]]\n",
        "\n",
        "result=[[0,0,0],\n",
        "       [0,0,0],\n",
        "       [0,0,0]]\n",
        "for i in range(len(m1)):\n",
        "   for j in range(len(m1[0]))  :\n",
        "     result[i][j]=m1[i][j]+m2[i][j]  \n",
        "\n",
        "for r in result:\n",
        "  print(r)"
      ],
      "execution_count": 21,
      "outputs": [
        {
          "output_type": "stream",
          "text": [
            "[10, 10, 10]\n",
            "[10, 10, 10]\n",
            "[10, 10, 10]\n"
          ],
          "name": "stdout"
        }
      ]
    },
    {
      "cell_type": "code",
      "metadata": {
        "id": "ralcTueE2Z7c",
        "colab_type": "code",
        "colab": {}
      },
      "source": [
        ""
      ],
      "execution_count": null,
      "outputs": []
    },
    {
      "cell_type": "markdown",
      "metadata": {
        "id": "z3UhmiKx3A_d",
        "colab_type": "text"
      },
      "source": [
        "#Python program to subtract 2 matrix"
      ]
    },
    {
      "cell_type": "code",
      "metadata": {
        "id": "MWgSStUC3ICS",
        "colab_type": "code",
        "colab": {
          "base_uri": "https://localhost:8080/",
          "height": 68
        },
        "outputId": "2247e043-4ae0-4185-e614-7517b841bf8b"
      },
      "source": [
        "m1=[[11,22,33], \n",
        "    [44,55,66],\n",
        "    [77,88,99]]\n",
        "\n",
        "m2=[[1,2,3],\n",
        "    [4,5,6],\n",
        "    [7,8,9]]\n",
        "\n",
        "result=[[0,0,0],\n",
        "        [0,0,0],\n",
        "        [0,0,0]]\n",
        "\n",
        "for i in range(len(m1)) :\n",
        "  for j in range(len(m1[0])) :\n",
        "    result[i][j]=m1[i][j]-m2[i][j]\n",
        "\n",
        "for r in result:\n",
        "  print(r)\n"
      ],
      "execution_count": 22,
      "outputs": [
        {
          "output_type": "stream",
          "text": [
            "[10, 20, 30]\n",
            "[40, 50, 60]\n",
            "[70, 80, 90]\n"
          ],
          "name": "stdout"
        }
      ]
    },
    {
      "cell_type": "code",
      "metadata": {
        "id": "blZYamDU3Q_o",
        "colab_type": "code",
        "colab": {}
      },
      "source": [
        ""
      ],
      "execution_count": null,
      "outputs": []
    },
    {
      "cell_type": "markdown",
      "metadata": {
        "id": "B87TEN_V5Ms4",
        "colab_type": "text"
      },
      "source": [
        "# Python program to multiply 2 matrix"
      ]
    },
    {
      "cell_type": "code",
      "metadata": {
        "id": "hw2raQPR5VYH",
        "colab_type": "code",
        "colab": {
          "base_uri": "https://localhost:8080/",
          "height": 129
        },
        "outputId": "d29aaca7-aff8-483f-f5d0-cbd153d68a28"
      },
      "source": [
        "X=[[1,2,3],\n",
        "    [4,5,6],\n",
        "    [7,8,9]]\n",
        "Y=[[9,8,7],\n",
        "    [6,5,4],\n",
        "    [3,2,1]]\n",
        "\n",
        "result=[[0,0,0],\n",
        "        [0,0,0],\n",
        "        [0,0,0]]\n",
        "\n",
        "for i in range(len(X)):\n",
        "   for j in range(len(Y[0])):\n",
        "       for k in range(len(Y)):\n",
        "           result[i][j] += X[i][k] * Y[k][j]\n",
        "\n",
        "for r in result:\n",
        "   print(r)\n"
      ],
      "execution_count": 31,
      "outputs": [
        {
          "output_type": "error",
          "ename": "SyntaxError",
          "evalue": "ignored",
          "traceback": [
            "\u001b[0;36m  File \u001b[0;32m\"<ipython-input-31-b2ea7ab0e648>\"\u001b[0;36m, line \u001b[0;32m12\u001b[0m\n\u001b[0;31m    for i in range(len(X)):\u001b[0m\n\u001b[0m                 ^\u001b[0m\n\u001b[0;31mSyntaxError\u001b[0m\u001b[0;31m:\u001b[0m invalid character in identifier\n"
          ]
        }
      ]
    },
    {
      "cell_type": "code",
      "metadata": {
        "id": "C06R7l2m7mDK",
        "colab_type": "code",
        "colab": {}
      },
      "source": [
        ""
      ],
      "execution_count": null,
      "outputs": []
    }
  ]
}