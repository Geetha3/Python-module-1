{
  "nbformat": 4,
  "nbformat_minor": 0,
  "metadata": {
    "colab": {
      "name": "python class on 24th june.ipynb",
      "provenance": [],
      "collapsed_sections": [],
      "authorship_tag": "ABX9TyORAdY9l+PFz7BQtO5auSoN",
      "include_colab_link": true
    },
    "kernelspec": {
      "name": "python3",
      "display_name": "Python 3"
    }
  },
  "cells": [
    {
      "cell_type": "markdown",
      "metadata": {
        "id": "view-in-github",
        "colab_type": "text"
      },
      "source": [
        "<a href=\"https://colab.research.google.com/github/Geetha3/Python-module-1/blob/master/python_class_on_24th_june.ipynb\" target=\"_parent\"><img src=\"https://colab.research.google.com/assets/colab-badge.svg\" alt=\"Open In Colab\"/></a>"
      ]
    },
    {
      "cell_type": "markdown",
      "metadata": {
        "id": "SNXWe_EZe6gC",
        "colab_type": "text"
      },
      "source": [
        "#looping Statements: while, for "
      ]
    },
    {
      "cell_type": "markdown",
      "metadata": {
        "id": "2CAB0Rs3gbPO",
        "colab_type": "text"
      },
      "source": [
        "\n",
        "\n",
        "```\n",
        "# This is formatted as code\n",
        "while condition :\n",
        "  body of loop\n",
        "  loop index increment\n",
        "else :  (optional)\n",
        "  statement\n",
        "```\n",
        "\n"
      ]
    },
    {
      "cell_type": "code",
      "metadata": {
        "id": "5BXTPNLZgyJ6",
        "colab_type": "code",
        "colab": {
          "base_uri": "https://localhost:8080/",
          "height": 85
        },
        "outputId": "8f6c0d80-ab84-4ecd-a43f-08f567c92b8c"
      },
      "source": [
        "counter=0\n",
        "while counter<3 :\n",
        "  print('inside while loop')\n",
        "  counter=counter+1\n",
        "else :\n",
        "  print('inside the else')\n"
      ],
      "execution_count": 1,
      "outputs": [
        {
          "output_type": "stream",
          "text": [
            "inside while loop\n",
            "inside while loop\n",
            "inside while loop\n",
            "inside the else\n"
          ],
          "name": "stdout"
        }
      ]
    },
    {
      "cell_type": "code",
      "metadata": {
        "id": "oZv9IyJ6iRtH",
        "colab_type": "code",
        "colab": {
          "base_uri": "https://localhost:8080/",
          "height": 204
        },
        "outputId": "aa63348a-1c57-48e7-c6f5-8561bc4e7c54"
      },
      "source": [
        "n=0\n",
        "while n<10:\n",
        "  print(n)\n",
        "  n=n+1\n",
        "print('outside the while')\n"
      ],
      "execution_count": 2,
      "outputs": [
        {
          "output_type": "stream",
          "text": [
            "0\n",
            "1\n",
            "2\n",
            "3\n",
            "4\n",
            "5\n",
            "6\n",
            "7\n",
            "8\n",
            "9\n",
            "outside the while\n"
          ],
          "name": "stdout"
        }
      ]
    },
    {
      "cell_type": "code",
      "metadata": {
        "id": "bx9w4W-ljM5V",
        "colab_type": "code",
        "colab": {}
      },
      "source": [
        ""
      ],
      "execution_count": null,
      "outputs": []
    },
    {
      "cell_type": "markdown",
      "metadata": {
        "id": "oCJpdSRtjZJi",
        "colab_type": "text"
      },
      "source": [
        "#python program to check given number is palindrome or not"
      ]
    },
    {
      "cell_type": "code",
      "metadata": {
        "id": "BqY2rpgRjikf",
        "colab_type": "code",
        "colab": {
          "base_uri": "https://localhost:8080/",
          "height": 51
        },
        "outputId": "bc89ff77-8616-48e8-b38c-7d38dcdf956f"
      },
      "source": [
        "n=int(input('Enter a number to check whether its a palindrome'))\n",
        "temp=n\n",
        "rev=0\n",
        "while (n>0):\n",
        "  digit=n%10\n",
        "  rev=rev*10+digit\n",
        "  n=n//10\n",
        "\n",
        "if (temp==rev):\n",
        "  print(' The given number is palindrome!')  \n",
        "else:\n",
        "  print('The given number is not  palindrome')"
      ],
      "execution_count": 5,
      "outputs": [
        {
          "output_type": "stream",
          "text": [
            "Enter a number to check whether its a palindrome232\n",
            " The given number is palindrome!\n"
          ],
          "name": "stdout"
        }
      ]
    },
    {
      "cell_type": "code",
      "metadata": {
        "id": "lDI30F3ClIk6",
        "colab_type": "code",
        "colab": {}
      },
      "source": [
        ""
      ],
      "execution_count": null,
      "outputs": []
    },
    {
      "cell_type": "markdown",
      "metadata": {
        "id": "wOGs8BuyoAzY",
        "colab_type": "text"
      },
      "source": [
        "#python program to reverse a number"
      ]
    },
    {
      "cell_type": "code",
      "metadata": {
        "id": "mQzGT5FBoHGP",
        "colab_type": "code",
        "colab": {
          "base_uri": "https://localhost:8080/",
          "height": 51
        },
        "outputId": "1766d2d2-dee8-4007-a796-ecdad01b92dc"
      },
      "source": [
        "n=int(input('Enter a number to check whether its a palindrome'))\n",
        "temp=n\n",
        "rev=0\n",
        "while (n>0):\n",
        "  digit=n%10\n",
        "  rev=rev*10+digit\n",
        "  n=n//10\n",
        "print(' Reverse of a given number is', rev)"
      ],
      "execution_count": 6,
      "outputs": [
        {
          "output_type": "stream",
          "text": [
            "Enter a number to check whether its a palindrome1234\n",
            " Reverse of a given number is 4321\n"
          ],
          "name": "stdout"
        }
      ]
    },
    {
      "cell_type": "code",
      "metadata": {
        "id": "KJk35dOYox-p",
        "colab_type": "code",
        "colab": {}
      },
      "source": [
        ""
      ],
      "execution_count": null,
      "outputs": []
    },
    {
      "cell_type": "markdown",
      "metadata": {
        "id": "hn_IPJxWo_uf",
        "colab_type": "text"
      },
      "source": [
        "#python program to finding divisor of a number\n"
      ]
    },
    {
      "cell_type": "code",
      "metadata": {
        "id": "QAB1ZXdTpJpP",
        "colab_type": "code",
        "colab": {
          "base_uri": "https://localhost:8080/",
          "height": 221
        },
        "outputId": "c1bfd983-6eec-4d2c-daa8-5ab8fdc0f6b8"
      },
      "source": [
        "x=int(input('Enter a number to find the devisors of it'))\n",
        "i=2\n",
        "while(i<=x//2):\n",
        "  if x%i==0:\n",
        "    print(i)\n",
        "  i=i+1\n",
        "else:\n",
        "  print('are the divisor of given number ')\n"
      ],
      "execution_count": 11,
      "outputs": [
        {
          "output_type": "stream",
          "text": [
            "Enter a number to find the devisors of it500\n",
            "2\n",
            "4\n",
            "5\n",
            "10\n",
            "20\n",
            "25\n",
            "50\n",
            "100\n",
            "125\n",
            "250\n",
            "are the divisor of given number \n"
          ],
          "name": "stdout"
        }
      ]
    },
    {
      "cell_type": "code",
      "metadata": {
        "id": "DdKFk0FaqWDU",
        "colab_type": "code",
        "colab": {}
      },
      "source": [
        ""
      ],
      "execution_count": null,
      "outputs": []
    },
    {
      "cell_type": "markdown",
      "metadata": {
        "id": "MKkxBGX5q8sa",
        "colab_type": "text"
      },
      "source": [
        "\n",
        "\n",
        "```\n",
        "# This is for loop Structure\n",
        "for val in sequence :\n",
        "  body of loop\n",
        "else :\n",
        "  statements\n",
        "```\n",
        "\n"
      ]
    },
    {
      "cell_type": "code",
      "metadata": {
        "id": "VBdwzcC0rvGd",
        "colab_type": "code",
        "colab": {
          "base_uri": "https://localhost:8080/",
          "height": 85
        },
        "outputId": "0b2d82d4-3206-44ed-97b3-421c55e98b5e"
      },
      "source": [
        "friends=['Raju','Ravi','Ram']\n",
        "for friend in friends:\n",
        "  print('Happy New Year :',friend)\n",
        "print('Done')\n"
      ],
      "execution_count": 12,
      "outputs": [
        {
          "output_type": "stream",
          "text": [
            "Happy New Year : Raju\n",
            "Happy New Year : Ravi\n",
            "Happy New Year : Ram\n",
            "Done\n"
          ],
          "name": "stdout"
        }
      ]
    },
    {
      "cell_type": "code",
      "metadata": {
        "id": "cupf9Pa1sX08",
        "colab_type": "code",
        "colab": {}
      },
      "source": [
        ""
      ],
      "execution_count": null,
      "outputs": []
    },
    {
      "cell_type": "markdown",
      "metadata": {
        "id": "RvLxcvvXtRwM",
        "colab_type": "text"
      },
      "source": [
        "#python program to print multiplication table"
      ]
    },
    {
      "cell_type": "code",
      "metadata": {
        "id": "k0IUayEltcQR",
        "colab_type": "code",
        "colab": {
          "base_uri": "https://localhost:8080/",
          "height": 119
        },
        "outputId": "a57e26e4-3fe3-451b-a7bd-f80e1b52a3d5"
      },
      "source": [
        "n=int(input('Enter a number to display its multiplication table'))\n",
        "for i in range (1,11,2):\n",
        "   print(n,'X',i,'=',n*i)\n"
      ],
      "execution_count": 20,
      "outputs": [
        {
          "output_type": "stream",
          "text": [
            "Enter a number to display its multiplication table2\n",
            "2 X 1 = 2\n",
            "2 X 3 = 6\n",
            "2 X 5 = 10\n",
            "2 X 7 = 14\n",
            "2 X 9 = 18\n"
          ],
          "name": "stdout"
        }
      ]
    },
    {
      "cell_type": "code",
      "metadata": {
        "id": "YAvXAJuJtrR6",
        "colab_type": "code",
        "colab": {}
      },
      "source": [
        "#range(start,end,step)"
      ],
      "execution_count": 26,
      "outputs": []
    },
    {
      "cell_type": "markdown",
      "metadata": {
        "id": "tZ6noO1j0Qly",
        "colab_type": "text"
      },
      "source": [
        "#range(start,end,step)"
      ]
    },
    {
      "cell_type": "code",
      "metadata": {
        "id": "RUGoB6DUwIyq",
        "colab_type": "code",
        "colab": {
          "base_uri": "https://localhost:8080/",
          "height": 68
        },
        "outputId": "36a2fed8-4c80-4529-f7ef-3b0a4eb27d67"
      },
      "source": [
        "x=range(5)\n",
        "print(type(x),x)\n",
        "print(x)\n",
        "\n",
        "x= list(range(5))\n",
        "print(type(x),x)"
      ],
      "execution_count": 22,
      "outputs": [
        {
          "output_type": "stream",
          "text": [
            "<class 'range'> range(0, 5)\n",
            "range(0, 5)\n",
            "<class 'list'> [0, 1, 2, 3, 4]\n"
          ],
          "name": "stdout"
        }
      ]
    },
    {
      "cell_type": "code",
      "metadata": {
        "id": "0Lnjr6zBxU1u",
        "colab_type": "code",
        "colab": {
          "base_uri": "https://localhost:8080/",
          "height": 34
        },
        "outputId": "72028f1e-8cd4-407b-c250-d964c9fd8b2e"
      },
      "source": [
        "for i in range(5,10):\n",
        "  print(i,end=' ')"
      ],
      "execution_count": 25,
      "outputs": [
        {
          "output_type": "stream",
          "text": [
            "5 6 7 8 9 "
          ],
          "name": "stdout"
        }
      ]
    },
    {
      "cell_type": "code",
      "metadata": {
        "id": "ruYkMxwNyqrg",
        "colab_type": "code",
        "colab": {}
      },
      "source": [
        ""
      ],
      "execution_count": null,
      "outputs": []
    }
  ]
}