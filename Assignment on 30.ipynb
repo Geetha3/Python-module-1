{
 "cells": [
  {
   "cell_type": "markdown",
   "metadata": {},
   "source": [
    "# 1. Given base and exponent write recursive function to return power."
   ]
  },
  {
   "cell_type": "code",
   "execution_count": 4,
   "metadata": {},
   "outputs": [
    {
     "data": {
      "text/plain": [
       "32"
      ]
     },
     "execution_count": 4,
     "metadata": {},
     "output_type": "execute_result"
    }
   ],
   "source": [
    "def power1(base,expn):\n",
    "    if expn==1:\n",
    "        return base\n",
    "    else:\n",
    "        return base*power1(base,expn-1)\n",
    "    \n",
    "power1(2,5)\n",
    "        "
   ]
  },
  {
   "cell_type": "markdown",
   "metadata": {},
   "source": [
    "# 2. Write recursive function to return GCD of given two numbers.\n",
    "\n",
    "\n"
   ]
  },
  {
   "cell_type": "code",
   "execution_count": 5,
   "metadata": {},
   "outputs": [
    {
     "data": {
      "text/plain": [
       "2"
      ]
     },
     "execution_count": 5,
     "metadata": {},
     "output_type": "execute_result"
    }
   ],
   "source": [
    "def GCD(a,b):\n",
    "    if b==0:\n",
    "        return a\n",
    "    else:\n",
    "        return GCD(b, a%b)\n",
    "    \n",
    "GCD(10,8)"
   ]
  },
  {
   "cell_type": "markdown",
   "metadata": {},
   "source": [
    "# 3. Write recursive function to return reverse of given number."
   ]
  },
  {
   "cell_type": "code",
   "execution_count": 14,
   "metadata": {},
   "outputs": [
    {
     "name": "stdout",
     "output_type": "stream",
     "text": [
      "[7, 6, 5, 2, 1]\n"
     ]
    }
   ],
   "source": [
    "L=[]\n",
    "def list_digit(n):\n",
    "    if n==0:\n",
    "        return L\n",
    "    else:\n",
    "        ld=n%10\n",
    "        L.append(ld)\n",
    "        return list_digit(n//10)\n",
    "    \n",
    "list_digit(12567) \n",
    "print(L)\n"
   ]
  },
  {
   "cell_type": "markdown",
   "metadata": {},
   "source": [
    "# 4. Write recursive function to return sum of first N natural numbers"
   ]
  },
  {
   "cell_type": "code",
   "execution_count": 16,
   "metadata": {},
   "outputs": [
    {
     "data": {
      "text/plain": [
       "15"
      ]
     },
     "execution_count": 16,
     "metadata": {},
     "output_type": "execute_result"
    }
   ],
   "source": [
    "\n",
    "def sumn(n):\n",
    "    if n==1:\n",
    "        return 1\n",
    "    else: return n + sumn(n-1)\n",
    "    \n",
    "sumn(5)"
   ]
  },
  {
   "cell_type": "markdown",
   "metadata": {},
   "source": [
    "# 5. Write recursive function to perform binary search on sorted list of numbers."
   ]
  },
  {
   "cell_type": "code",
   "execution_count": 19,
   "metadata": {},
   "outputs": [
    {
     "name": "stdout",
     "output_type": "stream",
     "text": [
      " number found at position  8\n"
     ]
    }
   ],
   "source": [
    "L=[1,2,3,4,5,6,7,8,9]\n",
    "\n",
    "def binary_search(low, high, x):\n",
    "    if high >= low:\n",
    "        mid = (high + low) // 2\n",
    "          \n",
    "        if L[mid] == x: \n",
    "            return mid \n",
    "        \n",
    "        elif L[mid] > x: \n",
    "            return binary_search(low, mid - 1, x) \n",
    "           \n",
    "        else: \n",
    "            return binary_search(mid + 1, high, x) \n",
    "  \n",
    "    else:\n",
    "        return -1\n",
    "    \n",
    "position =binary_search(0,8,9)  \n",
    "print(' number found at position ',position)"
   ]
  },
  {
   "cell_type": "code",
   "execution_count": null,
   "metadata": {},
   "outputs": [],
   "source": []
  }
 ],
 "metadata": {
  "kernelspec": {
   "display_name": "Python 3",
   "language": "python",
   "name": "python3"
  },
  "language_info": {
   "codemirror_mode": {
    "name": "ipython",
    "version": 3
   },
   "file_extension": ".py",
   "mimetype": "text/x-python",
   "name": "python",
   "nbconvert_exporter": "python",
   "pygments_lexer": "ipython3",
   "version": "3.7.3"
  }
 },
 "nbformat": 4,
 "nbformat_minor": 2
}
