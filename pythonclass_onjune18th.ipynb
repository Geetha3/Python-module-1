{
  "nbformat": 4,
  "nbformat_minor": 0,
  "metadata": {
    "colab": {
      "name": "pythonclass_onjune18th.ipynb",
      "provenance": [],
      "authorship_tag": "ABX9TyMIPBGJeDN4rA2cVAA7J3i+",
      "include_colab_link": true
    },
    "kernelspec": {
      "name": "python3",
      "display_name": "Python 3"
    }
  },
  "cells": [
    {
      "cell_type": "markdown",
      "metadata": {
        "id": "view-in-github",
        "colab_type": "text"
      },
      "source": [
        "<a href=\"https://colab.research.google.com/github/Geetha3/Python-module-1/blob/master/pythonclass_onjune18th.ipynb\" target=\"_parent\"><img src=\"https://colab.research.google.com/assets/colab-badge.svg\" alt=\"Open In Colab\"/></a>"
      ]
    },
    {
      "cell_type": "code",
      "metadata": {
        "id": "p4GMDzSunTHG",
        "colab_type": "code",
        "colab": {}
      },
      "source": [
        ""
      ],
      "execution_count": null,
      "outputs": []
    },
    {
      "cell_type": "markdown",
      "metadata": {
        "id": "CNc0OE5PoPEH",
        "colab_type": "text"
      },
      "source": [
        "Variables and data types"
      ]
    },
    {
      "cell_type": "code",
      "metadata": {
        "id": "FfasLrxyoVh1",
        "colab_type": "code",
        "colab": {}
      },
      "source": [
        ""
      ],
      "execution_count": null,
      "outputs": []
    },
    {
      "cell_type": "code",
      "metadata": {
        "id": "lLiKu9jZocLs",
        "colab_type": "code",
        "colab": {
          "base_uri": "https://localhost:8080/",
          "height": 34
        },
        "outputId": "976e25c9-173c-4110-b859-821a34069b4a"
      },
      "source": [
        "print(4)"
      ],
      "execution_count": 1,
      "outputs": [
        {
          "output_type": "stream",
          "text": [
            "4\n"
          ],
          "name": "stdout"
        }
      ]
    },
    {
      "cell_type": "code",
      "metadata": {
        "id": "4sGDKTeTo4gZ",
        "colab_type": "code",
        "colab": {
          "base_uri": "https://localhost:8080/",
          "height": 34
        },
        "outputId": "aacde6c2-22fe-438c-c9b5-c18f6509cc29"
      },
      "source": [
        "a=4\n",
        "print(a,type(a))\n"
      ],
      "execution_count": 5,
      "outputs": [
        {
          "output_type": "stream",
          "text": [
            "4 <class 'int'>\n"
          ],
          "name": "stdout"
        }
      ]
    },
    {
      "cell_type": "code",
      "metadata": {
        "id": "k3uqpsNWpBQP",
        "colab_type": "code",
        "colab": {
          "base_uri": "https://localhost:8080/",
          "height": 34
        },
        "outputId": "8ea181f2-338f-42ca-95a7-503cdb835c96"
      },
      "source": [
        "b=3.5\n",
        "print(b,type(b))"
      ],
      "execution_count": 4,
      "outputs": [
        {
          "output_type": "stream",
          "text": [
            "3.5 <class 'float'>\n"
          ],
          "name": "stdout"
        }
      ]
    },
    {
      "cell_type": "code",
      "metadata": {
        "id": "m7KKrpKYpiBX",
        "colab_type": "code",
        "colab": {
          "base_uri": "https://localhost:8080/",
          "height": 34
        },
        "outputId": "e635115c-19eb-4d7a-f248-66df3d8fc94b"
      },
      "source": [
        "s='good morning'\n",
        "print(s,type(s))"
      ],
      "execution_count": 6,
      "outputs": [
        {
          "output_type": "stream",
          "text": [
            "good morning <class 'str'>\n"
          ],
          "name": "stdout"
        }
      ]
    },
    {
      "cell_type": "code",
      "metadata": {
        "id": "dxbDe6oIqTOK",
        "colab_type": "code",
        "colab": {
          "base_uri": "https://localhost:8080/",
          "height": 34
        },
        "outputId": "cdf0cc75-9a2b-4490-fcdb-fc189fcfd89c"
      },
      "source": [
        "print(a,b,s)"
      ],
      "execution_count": 7,
      "outputs": [
        {
          "output_type": "stream",
          "text": [
            "4 3.5 good morning\n"
          ],
          "name": "stdout"
        }
      ]
    },
    {
      "cell_type": "code",
      "metadata": {
        "id": "5WHktHLEqhqA",
        "colab_type": "code",
        "colab": {}
      },
      "source": [
        "a1 ,  sum123 , a1b23,my_file "
      ],
      "execution_count": null,
      "outputs": []
    },
    {
      "cell_type": "code",
      "metadata": {
        "id": "VZujngpYq9hi",
        "colab_type": "code",
        "colab": {
          "base_uri": "https://localhost:8080/",
          "height": 129
        },
        "outputId": "b14f8637-33da-43e1-ea52-c1d46b5358eb"
      },
      "source": [
        "3a=23"
      ],
      "execution_count": 8,
      "outputs": [
        {
          "output_type": "error",
          "ename": "SyntaxError",
          "evalue": "ignored",
          "traceback": [
            "\u001b[0;36m  File \u001b[0;32m\"<ipython-input-8-66b65515b1e2>\"\u001b[0;36m, line \u001b[0;32m1\u001b[0m\n\u001b[0;31m    3a=23\u001b[0m\n\u001b[0m     ^\u001b[0m\n\u001b[0;31mSyntaxError\u001b[0m\u001b[0;31m:\u001b[0m invalid syntax\n"
          ]
        }
      ]
    },
    {
      "cell_type": "code",
      "metadata": {
        "id": "2S0gCaQprCsE",
        "colab_type": "code",
        "colab": {
          "base_uri": "https://localhost:8080/",
          "height": 129
        },
        "outputId": "40a4a449-34c9-43db-ab3b-9749d13753cc"
      },
      "source": [
        "a$=6"
      ],
      "execution_count": 9,
      "outputs": [
        {
          "output_type": "error",
          "ename": "SyntaxError",
          "evalue": "ignored",
          "traceback": [
            "\u001b[0;36m  File \u001b[0;32m\"<ipython-input-9-048d221b4293>\"\u001b[0;36m, line \u001b[0;32m1\u001b[0m\n\u001b[0;31m    a$=6\u001b[0m\n\u001b[0m     ^\u001b[0m\n\u001b[0;31mSyntaxError\u001b[0m\u001b[0;31m:\u001b[0m invalid syntax\n"
          ]
        }
      ]
    },
    {
      "cell_type": "code",
      "metadata": {
        "id": "niJL_auSrMq0",
        "colab_type": "code",
        "colab": {}
      },
      "source": [
        ""
      ],
      "execution_count": null,
      "outputs": []
    },
    {
      "cell_type": "markdown",
      "metadata": {
        "id": "fRe-6cA9rc5G",
        "colab_type": "text"
      },
      "source": [
        "+  -  *  /  %  //  **\n"
      ]
    },
    {
      "cell_type": "code",
      "metadata": {
        "id": "ov1tpYxlro2Y",
        "colab_type": "code",
        "colab": {
          "base_uri": "https://localhost:8080/",
          "height": 34
        },
        "outputId": "df551fe9-3af7-4a75-a436-dd9651043d10"
      },
      "source": [
        "a=2\n",
        "b=5\n",
        "print(a+b)"
      ],
      "execution_count": 10,
      "outputs": [
        {
          "output_type": "stream",
          "text": [
            "7\n"
          ],
          "name": "stdout"
        }
      ]
    },
    {
      "cell_type": "code",
      "metadata": {
        "id": "tnFg4ZS1rwBm",
        "colab_type": "code",
        "colab": {
          "base_uri": "https://localhost:8080/",
          "height": 34
        },
        "outputId": "9f982a53-6639-4fe4-9364-c653a6284685"
      },
      "source": [
        "print(a**b)"
      ],
      "execution_count": 11,
      "outputs": [
        {
          "output_type": "stream",
          "text": [
            "32\n"
          ],
          "name": "stdout"
        }
      ]
    },
    {
      "cell_type": "code",
      "metadata": {
        "id": "s4souuYyscZv",
        "colab_type": "code",
        "colab": {
          "base_uri": "https://localhost:8080/",
          "height": 51
        },
        "outputId": "8a71dd21-8752-4ac3-f943-25f53a6e21bc"
      },
      "source": [
        "minute=59\n",
        "print(minute/60)\n",
        "print(minute//60)"
      ],
      "execution_count": 13,
      "outputs": [
        {
          "output_type": "stream",
          "text": [
            "0.9833333333333333\n",
            "0\n"
          ],
          "name": "stdout"
        }
      ]
    },
    {
      "cell_type": "code",
      "metadata": {
        "id": "kuf6w8xssoax",
        "colab_type": "code",
        "colab": {
          "base_uri": "https://localhost:8080/",
          "height": 34
        },
        "outputId": "eeb87104-2400-4f8c-bd14-a365608ecf37"
      },
      "source": [
        "a=7\n",
        "b=3\n",
        "remainder=a%b\n",
        "print(remainder)"
      ],
      "execution_count": 15,
      "outputs": [
        {
          "output_type": "stream",
          "text": [
            "1\n"
          ],
          "name": "stdout"
        }
      ]
    },
    {
      "cell_type": "code",
      "metadata": {
        "id": "Am0CkiIos9o2",
        "colab_type": "code",
        "colab": {}
      },
      "source": [
        "()  **   / *   + -"
      ],
      "execution_count": null,
      "outputs": []
    },
    {
      "cell_type": "code",
      "metadata": {
        "id": "K1DcTwnHtii_",
        "colab_type": "code",
        "colab": {
          "base_uri": "https://localhost:8080/",
          "height": 34
        },
        "outputId": "789e48fe-ec2d-48b4-e37f-bba078612fc9"
      },
      "source": [
        "6+4/2"
      ],
      "execution_count": 16,
      "outputs": [
        {
          "output_type": "execute_result",
          "data": {
            "text/plain": [
              "8.0"
            ]
          },
          "metadata": {
            "tags": []
          },
          "execution_count": 16
        }
      ]
    },
    {
      "cell_type": "code",
      "metadata": {
        "id": "plO56P9otusS",
        "colab_type": "code",
        "colab": {}
      },
      "source": [
        "5-3-1"
      ],
      "execution_count": null,
      "outputs": []
    },
    {
      "cell_type": "code",
      "metadata": {
        "id": "l0xjmtAFuBTe",
        "colab_type": "code",
        "colab": {
          "base_uri": "https://localhost:8080/",
          "height": 34
        },
        "outputId": "e78d1bea-e759-4331-c6b3-e33bc3484d9a"
      },
      "source": [
        "a=5\n",
        "b=8\n",
        "print(a+b)\n"
      ],
      "execution_count": 17,
      "outputs": [
        {
          "output_type": "stream",
          "text": [
            "13\n"
          ],
          "name": "stdout"
        }
      ]
    },
    {
      "cell_type": "code",
      "metadata": {
        "id": "gL6PBSt1uLZp",
        "colab_type": "code",
        "colab": {
          "base_uri": "https://localhost:8080/",
          "height": 34
        },
        "outputId": "a1576396-ce7b-4ba8-bdcc-47730cfa1b11"
      },
      "source": [
        "a='5'\n",
        "b='8'\n",
        "print(a+b)"
      ],
      "execution_count": 18,
      "outputs": [
        {
          "output_type": "stream",
          "text": [
            "58\n"
          ],
          "name": "stdout"
        }
      ]
    },
    {
      "cell_type": "code",
      "metadata": {
        "id": "2Mt4amtfuTFM",
        "colab_type": "code",
        "colab": {
          "base_uri": "https://localhost:8080/",
          "height": 34
        },
        "outputId": "83b014e6-993f-4db1-b114-966a5e626bd8"
      },
      "source": [
        "a=\"Test\"\n",
        "b=3\n",
        "print(a*b)"
      ],
      "execution_count": 19,
      "outputs": [
        {
          "output_type": "stream",
          "text": [
            "TestTestTest\n"
          ],
          "name": "stdout"
        }
      ]
    },
    {
      "cell_type": "code",
      "metadata": {
        "id": "VDGslvKQu_Uq",
        "colab_type": "code",
        "colab": {
          "base_uri": "https://localhost:8080/",
          "height": 51
        },
        "outputId": "545f2b23-0e58-47fc-ed0f-69e297f16778"
      },
      "source": [
        "a=input('enter your name')\n",
        "print(\"Hello  \" ,a)"
      ],
      "execution_count": 21,
      "outputs": [
        {
          "output_type": "stream",
          "text": [
            "enter your nameGeetha\n",
            "Hello   Geetha\n"
          ],
          "name": "stdout"
        }
      ]
    },
    {
      "cell_type": "code",
      "metadata": {
        "id": "I0ZNTX2wvZwU",
        "colab_type": "code",
        "colab": {
          "base_uri": "https://localhost:8080/",
          "height": 51
        },
        "outputId": "b30d3c72-3b76-4988-b17f-b9c77e725703"
      },
      "source": [
        "b=input('Enter a value')\n",
        "print(b,type(b))\n"
      ],
      "execution_count": 22,
      "outputs": [
        {
          "output_type": "stream",
          "text": [
            "Enter a value6\n",
            "6 <class 'str'>\n"
          ],
          "name": "stdout"
        }
      ]
    },
    {
      "cell_type": "code",
      "metadata": {
        "id": "NapAwhPJwAG1",
        "colab_type": "code",
        "colab": {}
      },
      "source": [
        ""
      ],
      "execution_count": null,
      "outputs": []
    },
    {
      "cell_type": "markdown",
      "metadata": {
        "id": "5-ksd516wac-",
        "colab_type": "text"
      },
      "source": [
        "Write a python program to take input from user and add them"
      ]
    },
    {
      "cell_type": "code",
      "metadata": {
        "id": "Nvdj8uaOwjne",
        "colab_type": "code",
        "colab": {
          "base_uri": "https://localhost:8080/",
          "height": 68
        },
        "outputId": "94fd7acf-5b46-4d85-fee4-f0e9a238aa47"
      },
      "source": [
        "a=int(input('Enter the first value'))\n",
        "b=int(input(\"Enter the second value\"))\n",
        "\n",
        "print('the sum of two number is', a+b)"
      ],
      "execution_count": 23,
      "outputs": [
        {
          "output_type": "stream",
          "text": [
            "Enter the first value10\n",
            "Enter the second value20\n",
            "the sum of two number is 30\n"
          ],
          "name": "stdout"
        }
      ]
    },
    {
      "cell_type": "code",
      "metadata": {
        "id": "8_-XnI66xDja",
        "colab_type": "code",
        "colab": {}
      },
      "source": [
        ""
      ],
      "execution_count": null,
      "outputs": []
    },
    {
      "cell_type": "markdown",
      "metadata": {
        "id": "7bEaZP-tyIaE",
        "colab_type": "text"
      },
      "source": [
        "write a python program to read 2 floating point number from user and display their product"
      ]
    },
    {
      "cell_type": "code",
      "metadata": {
        "id": "lwrqgJ0JyU_v",
        "colab_type": "code",
        "colab": {
          "base_uri": "https://localhost:8080/",
          "height": 68
        },
        "outputId": "19e42b53-9224-461b-fa14-dba5fe8f80ab"
      },
      "source": [
        "a=float(input('Enter the first value'))\n",
        "b=float(input(\"Enter the second value\"))\n",
        "\n",
        "print('the product of two number is', a*b)"
      ],
      "execution_count": 24,
      "outputs": [
        {
          "output_type": "stream",
          "text": [
            "Enter the first value1.8\n",
            "Enter the second value2.5\n",
            "the product of two number is 4.5\n"
          ],
          "name": "stdout"
        }
      ]
    },
    {
      "cell_type": "code",
      "metadata": {
        "id": "Yx8aluBVzE5X",
        "colab_type": "code",
        "colab": {}
      },
      "source": [
        "\n"
      ],
      "execution_count": null,
      "outputs": []
    },
    {
      "cell_type": "markdown",
      "metadata": {
        "id": "uLpTQ9XqzSut",
        "colab_type": "text"
      },
      "source": [
        "Write a python program to take input from user their name ang Age , and display"
      ]
    },
    {
      "cell_type": "code",
      "metadata": {
        "id": "35G45yolzkRV",
        "colab_type": "code",
        "colab": {
          "base_uri": "https://localhost:8080/",
          "height": 68
        },
        "outputId": "82ae9e2f-3395-4d2f-961f-07a6c72f198f"
      },
      "source": [
        "age= int(input(\"Please enter your age: \"))\n",
        "name= input(\"Please enter your name: \")\n",
        "print(\"Hello, \",name, \"Your age is \",age,'years')\n"
      ],
      "execution_count": 26,
      "outputs": [
        {
          "output_type": "stream",
          "text": [
            "Please enter your age: 25\n",
            "Please enter your name: Geetha\n",
            "Hello,  Geetha Your age is  25 years\n"
          ],
          "name": "stdout"
        }
      ]
    },
    {
      "cell_type": "code",
      "metadata": {
        "id": "jA9KXgp50klm",
        "colab_type": "code",
        "colab": {}
      },
      "source": [
        ""
      ],
      "execution_count": null,
      "outputs": []
    },
    {
      "cell_type": "markdown",
      "metadata": {
        "id": "-D0S8jcR06Yt",
        "colab_type": "text"
      },
      "source": [
        "Assignment operator ="
      ]
    },
    {
      "cell_type": "code",
      "metadata": {
        "id": "zzI3Jnn20-As",
        "colab_type": "code",
        "colab": {}
      },
      "source": [
        "variable_name=value\n"
      ],
      "execution_count": null,
      "outputs": []
    },
    {
      "cell_type": "code",
      "metadata": {
        "id": "QazI5nGZ1Q3c",
        "colab_type": "code",
        "colab": {
          "base_uri": "https://localhost:8080/",
          "height": 34
        },
        "outputId": "380c1739-250c-41f6-897c-d159629fca8c"
      },
      "source": [
        "time=2.6\n",
        "print(time)"
      ],
      "execution_count": 28,
      "outputs": [
        {
          "output_type": "stream",
          "text": [
            "2.6\n"
          ],
          "name": "stdout"
        }
      ]
    },
    {
      "cell_type": "code",
      "metadata": {
        "id": "sFWFOhzj1XRd",
        "colab_type": "code",
        "colab": {
          "base_uri": "https://localhost:8080/",
          "height": 51
        },
        "outputId": "6c45117c-8da2-4cf0-af40-b8157ce4c618"
      },
      "source": [
        "a,b=1,2\n",
        "print(a)\n",
        "print(b)"
      ],
      "execution_count": 29,
      "outputs": [
        {
          "output_type": "stream",
          "text": [
            "1\n",
            "2\n"
          ],
          "name": "stdout"
        }
      ]
    },
    {
      "cell_type": "code",
      "metadata": {
        "id": "0ZEvkX6V1q5i",
        "colab_type": "code",
        "colab": {
          "base_uri": "https://localhost:8080/",
          "height": 68
        },
        "outputId": "b34ba1e4-8b48-4af9-bb58-e88b0f80f340"
      },
      "source": [
        "a,s,c=23,'GITAM',6.98\n",
        "print(a,type(a))\n",
        "print(s,type(s))\n",
        "print(c,type(c))"
      ],
      "execution_count": 31,
      "outputs": [
        {
          "output_type": "stream",
          "text": [
            "23 <class 'int'>\n",
            "GITAM <class 'str'>\n",
            "6.98 <class 'float'>\n"
          ],
          "name": "stdout"
        }
      ]
    },
    {
      "cell_type": "code",
      "metadata": {
        "id": "ECow9NpO2PLI",
        "colab_type": "code",
        "colab": {}
      },
      "source": [
        ""
      ],
      "execution_count": null,
      "outputs": []
    }
  ]
}